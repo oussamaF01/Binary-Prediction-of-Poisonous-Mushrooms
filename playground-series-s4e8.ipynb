{
 "cells": [
  {
   "cell_type": "code",
   "execution_count": 1,
   "id": "b537658d",
   "metadata": {
    "_cell_guid": "b1076dfc-b9ad-4769-8c92-a6c4dae69d19",
    "_uuid": "8f2839f25d086af736a60e9eeb907d3b93b6e0e5",
    "execution": {
     "iopub.execute_input": "2024-12-23T03:53:17.666511Z",
     "iopub.status.busy": "2024-12-23T03:53:17.666139Z",
     "iopub.status.idle": "2024-12-23T03:53:18.368257Z",
     "shell.execute_reply": "2024-12-23T03:53:18.367081Z"
    },
    "papermill": {
     "duration": 0.711171,
     "end_time": "2024-12-23T03:53:18.370032",
     "exception": false,
     "start_time": "2024-12-23T03:53:17.658861",
     "status": "completed"
    },
    "tags": []
   },
   "outputs": [
    {
     "name": "stdout",
     "output_type": "stream",
     "text": [
      "/kaggle/input/playground-series-s4e8/sample_submission.csv\n",
      "/kaggle/input/playground-series-s4e8/train.csv\n",
      "/kaggle/input/playground-series-s4e8/test.csv\n"
     ]
    }
   ],
   "source": [
    "# This Python 3 environment comes with many helpful analytics libraries installed\n",
    "# It is defined by the kaggle/python Docker image: https://github.com/kaggle/docker-python\n",
    "# For example, here's several helpful packages to load\n",
    "\n",
    "import numpy as np # linear algebra\n",
    "import pandas as pd # data processing, CSV file I/O (e.g. pd.read_csv)\n",
    "\n",
    "# Input data files are available in the read-only \"../input/\" directory\n",
    "# For example, running this (by clicking run or pressing Shift+Enter) will list all files under the input directory\n",
    "\n",
    "import os\n",
    "for dirname, _, filenames in os.walk('/kaggle/input'):\n",
    "    for filename in filenames:\n",
    "        print(os.path.join(dirname, filename))\n",
    "\n",
    "# You can write up to 20GB to the current directory (/kaggle/working/) that gets preserved as output when you create a version using \"Save & Run All\" \n",
    "# You can also write temporary files to /kaggle/temp/, but they won't be saved outside of the current session"
   ]
  },
  {
   "cell_type": "code",
   "execution_count": 2,
   "id": "95d6885c",
   "metadata": {
    "execution": {
     "iopub.execute_input": "2024-12-23T03:53:18.383067Z",
     "iopub.status.busy": "2024-12-23T03:53:18.382581Z",
     "iopub.status.idle": "2024-12-23T03:53:22.808825Z",
     "shell.execute_reply": "2024-12-23T03:53:22.807778Z"
    },
    "papermill": {
     "duration": 4.434317,
     "end_time": "2024-12-23T03:53:22.810676",
     "exception": false,
     "start_time": "2024-12-23T03:53:18.376359",
     "status": "completed"
    },
    "tags": []
   },
   "outputs": [],
   "source": [
    "import pandas as pd\n",
    "import numpy as np\n",
    "import seaborn as sns\n",
    "import matplotlib.pyplot as plt\n",
    "import lime\n",
    "import lime.lime_tabular\n",
    "import time\n",
    "from sklearn.model_selection import train_test_split\n",
    "from sklearn.preprocessing import LabelEncoder,OrdinalEncoder\n",
    "from sklearn.impute import KNNImputer\n",
    "from sklearn.metrics import matthews_corrcoef\n",
    "from xgboost import XGBClassifier\n",
    "import category_encoders as ce\n",
    "from xgboost import XGBRegressor\n",
    "import lightgbm as lgb\n",
    "import warnings\n",
    "warnings.filterwarnings('ignore')"
   ]
  },
  {
   "cell_type": "code",
   "execution_count": 3,
   "id": "5d5aeff5",
   "metadata": {
    "execution": {
     "iopub.execute_input": "2024-12-23T03:53:22.823096Z",
     "iopub.status.busy": "2024-12-23T03:53:22.822395Z",
     "iopub.status.idle": "2024-12-23T03:53:36.778756Z",
     "shell.execute_reply": "2024-12-23T03:53:36.777587Z"
    },
    "papermill": {
     "duration": 13.964169,
     "end_time": "2024-12-23T03:53:36.780473",
     "exception": false,
     "start_time": "2024-12-23T03:53:22.816304",
     "status": "completed"
    },
    "tags": []
   },
   "outputs": [
    {
     "name": "stdout",
     "output_type": "stream",
     "text": [
      "(3116945, 22)\n",
      "(2077964, 21)\n"
     ]
    }
   ],
   "source": [
    "url_train='/kaggle/input/playground-series-s4e8/train.csv'\n",
    "url_test='/kaggle/input/playground-series-s4e8/test.csv'\n",
    "train=pd.read_csv(url_train,sep=',')\n",
    "test=pd.read_csv(url_test,sep=',')\n",
    "print(train.shape)\n",
    "print(test.shape)"
   ]
  },
  {
   "cell_type": "code",
   "execution_count": 4,
   "id": "69afdfea",
   "metadata": {
    "execution": {
     "iopub.execute_input": "2024-12-23T03:53:36.792319Z",
     "iopub.status.busy": "2024-12-23T03:53:36.792014Z",
     "iopub.status.idle": "2024-12-23T03:53:37.847593Z",
     "shell.execute_reply": "2024-12-23T03:53:37.846774Z"
    },
    "papermill": {
     "duration": 1.063391,
     "end_time": "2024-12-23T03:53:37.849385",
     "exception": false,
     "start_time": "2024-12-23T03:53:36.785994",
     "status": "completed"
    },
    "tags": []
   },
   "outputs": [],
   "source": [
    "# Drop id\n",
    "train=train.drop(columns=['id'])\n",
    "test=test.drop(columns=['id'])"
   ]
  },
  {
   "cell_type": "code",
   "execution_count": 5,
   "id": "98588c50",
   "metadata": {
    "execution": {
     "iopub.execute_input": "2024-12-23T03:53:37.861953Z",
     "iopub.status.busy": "2024-12-23T03:53:37.861604Z",
     "iopub.status.idle": "2024-12-23T03:53:39.629390Z",
     "shell.execute_reply": "2024-12-23T03:53:39.628232Z"
    },
    "papermill": {
     "duration": 1.776169,
     "end_time": "2024-12-23T03:53:39.631065",
     "exception": false,
     "start_time": "2024-12-23T03:53:37.854896",
     "status": "completed"
    },
    "tags": []
   },
   "outputs": [
    {
     "name": "stdout",
     "output_type": "stream",
     "text": [
      "class\n",
      "p    1705396\n",
      "e    1411549\n",
      "Name: count, dtype: int64\n"
     ]
    },
    {
     "data": {
      "image/png": "[encoded data removed]",
      "text/plain": [
       "<Figure size 640x480 with 1 Axes>"
      ]
     },
     "metadata": {},
     "output_type": "display_data"
    }
   ],
   "source": [
    "# Target \n",
    "print(train['class'].value_counts())\n",
    "sns.countplot(data=train,x='class')\n",
    "plt.title('Class')\n",
    "plt.show()"
   ]
  },
  {
   "cell_type": "code",
   "execution_count": 6,
   "id": "2fd3c2c7",
   "metadata": {
    "execution": {
     "iopub.execute_input": "2024-12-23T03:53:39.644308Z",
     "iopub.status.busy": "2024-12-23T03:53:39.643907Z",
     "iopub.status.idle": "2024-12-23T03:53:43.208260Z",
     "shell.execute_reply": "2024-12-23T03:53:43.207232Z"
    },
    "papermill": {
     "duration": 3.573127,
     "end_time": "2024-12-23T03:53:43.210092",
     "exception": false,
     "start_time": "2024-12-23T03:53:39.636965",
     "status": "completed"
    },
    "tags": []
   },
   "outputs": [],
   "source": [
    "missing_train = train.isna().mean() * 100\n",
    "missing_test = test.isna().mean() * 100"
   ]
  },
  {
   "cell_type": "code",
   "execution_count": 7,
   "id": "737d0124",
   "metadata": {
    "execution": {
     "iopub.execute_input": "2024-12-23T03:53:43.223532Z",
     "iopub.status.busy": "2024-12-23T03:53:43.223199Z",
     "iopub.status.idle": "2024-12-23T03:53:45.411968Z",
     "shell.execute_reply": "2024-12-23T03:53:45.411018Z"
    },
    "papermill": {
     "duration": 2.197082,
     "end_time": "2024-12-23T03:53:45.413578",
     "exception": false,
     "start_time": "2024-12-23T03:53:43.216496",
     "status": "completed"
    },
    "tags": []
   },
   "outputs": [
    {
     "data": {
      "text/plain": [
       "Index(['veil-type', 'spore-print-color'], dtype='object')"
      ]
     },
     "execution_count": 7,
     "metadata": {},
     "output_type": "execute_result"
    }
   ],
   "source": [
    "missing_threshold = 0.90\n",
    "high_missing_columns = train.columns[train.isnull().mean() > missing_threshold]\n",
    "high_missing_columns"
   ]
  },
  {
   "cell_type": "code",
   "execution_count": 8,
   "id": "41e2fbb7",
   "metadata": {
    "execution": {
     "iopub.execute_input": "2024-12-23T03:53:45.426527Z",
     "iopub.status.busy": "2024-12-23T03:53:45.426191Z",
     "iopub.status.idle": "2024-12-23T03:53:53.913603Z",
     "shell.execute_reply": "2024-12-23T03:53:53.912563Z"
    },
    "papermill": {
     "duration": 8.496006,
     "end_time": "2024-12-23T03:53:53.915588",
     "exception": false,
     "start_time": "2024-12-23T03:53:45.419582",
     "status": "completed"
    },
    "tags": []
   },
   "outputs": [],
   "source": [
    "train=train.drop(columns=high_missing_columns)\n",
    "test=test.drop(columns=high_missing_columns)\n",
    "target='class'\n",
    "for column in train.columns:\n",
    "    if train[column].isnull().any():      \n",
    "        if train[column].dtype == 'object':\n",
    "            mode_value = train[column].mode()[0]\n",
    "            train[column].fillna(mode_value, inplace=True)\n",
    "            test[column].fillna(mode_value, inplace=True)     \n",
    "        else:\n",
    "            median_value = train[column].median()\n",
    "            train[column].fillna(median_value, inplace=True)\n",
    "            test[column].fillna(median_value, inplace=True)"
   ]
  },
  {
   "cell_type": "code",
   "execution_count": 9,
   "id": "b709e9fc",
   "metadata": {
    "execution": {
     "iopub.execute_input": "2024-12-23T03:53:53.928717Z",
     "iopub.status.busy": "2024-12-23T03:53:53.928351Z",
     "iopub.status.idle": "2024-12-23T03:53:53.934369Z",
     "shell.execute_reply": "2024-12-23T03:53:53.933359Z"
    },
    "papermill": {
     "duration": 0.014249,
     "end_time": "2024-12-23T03:53:53.936002",
     "exception": false,
     "start_time": "2024-12-23T03:53:53.921753",
     "status": "completed"
    },
    "tags": []
   },
   "outputs": [
    {
     "name": "stdout",
     "output_type": "stream",
     "text": [
      "Index(['stem-root', 'veil-type', 'veil-color', 'spore-print-color'], dtype='object')\n",
      "Index(['stem-root', 'veil-type', 'veil-color', 'spore-print-color'], dtype='object')\n"
     ]
    }
   ],
   "source": [
    "cols_to_drop_train=missing_train[missing_train>85].index\n",
    "cols_to_drop_test = missing_test[missing_test >85].index\n",
    "print(cols_to_drop_train)\n",
    "print(cols_to_drop_test)"
   ]
  },
  {
   "cell_type": "code",
   "execution_count": 10,
   "id": "7354d6a7",
   "metadata": {
    "execution": {
     "iopub.execute_input": "2024-12-23T03:53:53.948989Z",
     "iopub.status.busy": "2024-12-23T03:53:53.948670Z",
     "iopub.status.idle": "2024-12-23T03:53:53.954270Z",
     "shell.execute_reply": "2024-12-23T03:53:53.953363Z"
    },
    "papermill": {
     "duration": 0.013717,
     "end_time": "2024-12-23T03:53:53.955720",
     "exception": false,
     "start_time": "2024-12-23T03:53:53.942003",
     "status": "completed"
    },
    "tags": []
   },
   "outputs": [],
   "source": [
    "def knn_impute(df, n_neighbors=5):   \n",
    "    df_encoded = df.copy()\n",
    "    for col in df_encoded.select_dtypes(include='object').columns:\n",
    "        df_encoded[col] = df_encoded[col].astype('category').cat.codes\n",
    "    knn_imputer = KNNImputer(n_neighbors=n_neighbors)\n",
    "    df_imputed = pd.DataFrame(knn_imputer.fit_transform(df_encoded), columns=df_encoded.columns)\n",
    "    for col in df.select_dtypes(include='object').columns:\n",
    "        df_imputed[col] = df_imputed[col].round().astype(int).map(\n",
    "            dict(enumerate(df[col].astype('category').cat.categories)))\n",
    "    return df_imputed"
   ]
  },
  {
   "cell_type": "code",
   "execution_count": 11,
   "id": "c6f81ef1",
   "metadata": {
    "execution": {
     "iopub.execute_input": "2024-12-23T03:53:53.968664Z",
     "iopub.status.busy": "2024-12-23T03:53:53.968331Z",
     "iopub.status.idle": "2024-12-23T03:54:08.540250Z",
     "shell.execute_reply": "2024-12-23T03:54:08.538888Z"
    },
    "papermill": {
     "duration": 14.58049,
     "end_time": "2024-12-23T03:54:08.542220",
     "exception": false,
     "start_time": "2024-12-23T03:53:53.961730",
     "status": "completed"
    },
    "tags": []
   },
   "outputs": [],
   "source": [
    "df_train_imputed=knn_impute(train,n_neighbors=5)\n",
    "df_test_imputed=knn_impute(test,n_neighbors=5)"
   ]
  },
  {
   "cell_type": "code",
   "execution_count": 12,
   "id": "7e97ada0",
   "metadata": {
    "execution": {
     "iopub.execute_input": "2024-12-23T03:54:08.555945Z",
     "iopub.status.busy": "2024-12-23T03:54:08.555567Z",
     "iopub.status.idle": "2024-12-23T03:54:33.078930Z",
     "shell.execute_reply": "2024-12-23T03:54:33.077846Z"
    },
    "papermill": {
     "duration": 24.532663,
     "end_time": "2024-12-23T03:54:33.081164",
     "exception": false,
     "start_time": "2024-12-23T03:54:08.548501",
     "status": "completed"
    },
    "tags": []
   },
   "outputs": [],
   "source": [
    "cat_cols_train=df_train_imputed.select_dtypes(include=['object']).columns\n",
    "#print(cat_cols_train)\n",
    "cat_cols_train=cat_cols_train[cat_cols_train!='class']\n",
    "ordinal_encoder=OrdinalEncoder(handle_unknown='use_encoded_value', unknown_value=-1)\n",
    "df_train_imputed[cat_cols_train] = ordinal_encoder.fit_transform(df_train_imputed[cat_cols_train].astype(str))\n",
    "df_test_imputed[cat_cols_train] = ordinal_encoder.transform(df_test_imputed[cat_cols_train].astype(str))"
   ]
  },
  {
   "cell_type": "code",
   "execution_count": 13,
   "id": "596f79e3",
   "metadata": {
    "execution": {
     "iopub.execute_input": "2024-12-23T03:54:33.095840Z",
     "iopub.status.busy": "2024-12-23T03:54:33.095448Z",
     "iopub.status.idle": "2024-12-23T03:54:33.928516Z",
     "shell.execute_reply": "2024-12-23T03:54:33.927417Z"
    },
    "papermill": {
     "duration": 0.84232,
     "end_time": "2024-12-23T03:54:33.930577",
     "exception": false,
     "start_time": "2024-12-23T03:54:33.088257",
     "status": "completed"
    },
    "tags": []
   },
   "outputs": [],
   "source": [
    "df_train=df_train_imputed.copy()\n",
    "df_test=df_test_imputed.copy()"
   ]
  },
  {
   "cell_type": "code",
   "execution_count": 14,
   "id": "bfb46d67",
   "metadata": {
    "execution": {
     "iopub.execute_input": "2024-12-23T03:54:33.944025Z",
     "iopub.status.busy": "2024-12-23T03:54:33.943684Z",
     "iopub.status.idle": "2024-12-23T03:54:34.560188Z",
     "shell.execute_reply": "2024-12-23T03:54:34.559314Z"
    },
    "papermill": {
     "duration": 0.625122,
     "end_time": "2024-12-23T03:54:34.561970",
     "exception": false,
     "start_time": "2024-12-23T03:54:33.936848",
     "status": "completed"
    },
    "tags": []
   },
   "outputs": [],
   "source": [
    "le=LabelEncoder()\n",
    "df_train['class']=le.fit_transform(df_train['class'])\n",
    "y=df_train['class']\n",
    "X=df_train.drop(['class'],axis=1)"
   ]
  },
  {
   "cell_type": "code",
   "execution_count": 15,
   "id": "4c6ebbdf",
   "metadata": {
    "execution": {
     "iopub.execute_input": "2024-12-23T03:54:34.576765Z",
     "iopub.status.busy": "2024-12-23T03:54:34.576356Z",
     "iopub.status.idle": "2024-12-23T03:54:36.432841Z",
     "shell.execute_reply": "2024-12-23T03:54:36.431562Z"
    },
    "papermill": {
     "duration": 1.866629,
     "end_time": "2024-12-23T03:54:36.434885",
     "exception": false,
     "start_time": "2024-12-23T03:54:34.568256",
     "status": "completed"
    },
    "tags": []
   },
   "outputs": [],
   "source": [
    "train_X, test_X, train_y, test_y = train_test_split(X, y,test_size = 0.2, random_state =42,stratify=y)"
   ]
  },
  {
   "cell_type": "code",
   "execution_count": 16,
   "id": "cb628989",
   "metadata": {
    "execution": {
     "iopub.execute_input": "2024-12-23T03:54:36.448344Z",
     "iopub.status.busy": "2024-12-23T03:54:36.447988Z",
     "iopub.status.idle": "2024-12-23T04:36:53.258121Z",
     "shell.execute_reply": "2024-12-23T04:36:53.256780Z"
    },
    "papermill": {
     "duration": 2536.825242,
     "end_time": "2024-12-23T04:36:53.266162",
     "exception": false,
     "start_time": "2024-12-23T03:54:36.440920",
     "status": "completed"
    },
    "tags": []
   },
   "outputs": [
    {
     "name": "stdout",
     "output_type": "stream",
     "text": [
      "Fitting 3 folds for each of 50 candidates, totalling 150 fits\n",
      "Mejores parámetros: {'alpha': 0.5166358912710143, 'colsample_bytree': 0.6304145874152045, 'gamma': 0.0009962636997579242, 'max_depth': 14, 'min_child_weight': 7, 'n_estimators': 50, 'subsample': 0.9502090285816652}\n"
     ]
    }
   ],
   "source": [
    "from xgboost import XGBClassifier\n",
    "from sklearn.model_selection import RandomizedSearchCV\n",
    "from scipy.stats import uniform\n",
    "\n",
    "# Definir el modelo base\n",
    "model = XGBClassifier(\n",
    "    objective='binary:logistic',\n",
    "    random_state=42  # Establecer la semilla para reproducibilidad\n",
    ")\n",
    "\n",
    "# Definir el espacio de búsqueda de hiperparámetros\n",
    "param_dist = {\n",
    "    'alpha': uniform(0, 1),               # Regularización L1\n",
    "    'subsample': uniform(0.5, 0.5),       # Submuestreo de filas\n",
    "    'colsample_bytree': uniform(0.5, 0.5),# Submuestreo de columnas\n",
    "    'max_depth': [4, 6, 8, 10, 12, 14],   # Profundidad máxima\n",
    "    'min_child_weight': [1, 3, 5, 7],     # Peso mínimo de los hijos\n",
    "    'gamma': uniform(1e-8, 1e-3),         # Regularización gamma\n",
    "    'n_estimators': [50, 100, 150, 200]   # Número de árboles\n",
    "}\n",
    "\n",
    "# Configurar RandomizedSearchCV\n",
    "random_search = RandomizedSearchCV(\n",
    "    estimator=model,\n",
    "    param_distributions=param_dist,\n",
    "    n_iter=50,                   # Número de combinaciones a probar\n",
    "    scoring='accuracy',          # Métrica de evaluación\n",
    "    cv=3,                        # Validación cruzada con 3 particiones\n",
    "    verbose=1,                   # Mostrar progreso\n",
    "    random_state=42,             # Semilla para reproducibilidad\n",
    "    n_jobs=-1                    # Paralelización\n",
    ")\n",
    "\n",
    "# Ejecutar la búsqueda\n",
    "random_search.fit(train_X, train_y)\n",
    "\n",
    "# Mostrar los mejores parámetros encontrados\n",
    "print(\"Mejores parámetros:\", random_search.best_params_)"
   ]
  },
  {
   "cell_type": "code",
   "execution_count": 17,
   "id": "faae70a7",
   "metadata": {
    "execution": {
     "iopub.execute_input": "2024-12-23T04:36:53.279867Z",
     "iopub.status.busy": "2024-12-23T04:36:53.279497Z",
     "iopub.status.idle": "2024-12-23T04:36:53.284273Z",
     "shell.execute_reply": "2024-12-23T04:36:53.283406Z"
    },
    "papermill": {
     "duration": 0.013368,
     "end_time": "2024-12-23T04:36:53.285666",
     "exception": false,
     "start_time": "2024-12-23T04:36:53.272298",
     "status": "completed"
    },
    "tags": []
   },
   "outputs": [],
   "source": [
    "def mcc_metric(y_pred, dmatrix):\n",
    "    y_true = dmatrix.get_label()\n",
    "    y_pred = (y_pred > 0.5).astype(int) \n",
    "    mcc = matthews_corrcoef(y_true, y_pred)\n",
    "    return 'mcc', mcc"
   ]
  },
  {
   "cell_type": "code",
   "execution_count": 18,
   "id": "df2ae62b",
   "metadata": {
    "execution": {
     "iopub.execute_input": "2024-12-23T04:36:53.298816Z",
     "iopub.status.busy": "2024-12-23T04:36:53.298456Z",
     "iopub.status.idle": "2024-12-23T04:37:31.220665Z",
     "shell.execute_reply": "2024-12-23T04:37:31.219491Z"
    },
    "papermill": {
     "duration": 37.930579,
     "end_time": "2024-12-23T04:37:31.222313",
     "exception": false,
     "start_time": "2024-12-23T04:36:53.291734",
     "status": "completed"
    },
    "tags": []
   },
   "outputs": [
    {
     "name": "stdout",
     "output_type": "stream",
     "text": [
      "[0]\tvalidation_0-logloss:0.47242\tvalidation_0-mcc:0.90185\n",
      "[1]\tvalidation_0-logloss:0.34675\tvalidation_0-mcc:0.94727\n",
      "[2]\tvalidation_0-logloss:0.26801\tvalidation_0-mcc:0.95894\n",
      "[3]\tvalidation_0-logloss:0.20143\tvalidation_0-mcc:0.96842\n",
      "[4]\tvalidation_0-logloss:0.15923\tvalidation_0-mcc:0.97250\n",
      "[5]\tvalidation_0-logloss:0.12895\tvalidation_0-mcc:0.97467\n",
      "[6]\tvalidation_0-logloss:0.10830\tvalidation_0-mcc:0.97678\n",
      "[7]\tvalidation_0-logloss:0.09179\tvalidation_0-mcc:0.97764\n",
      "[8]\tvalidation_0-logloss:0.07870\tvalidation_0-mcc:0.97837\n",
      "[9]\tvalidation_0-logloss:0.06871\tvalidation_0-mcc:0.97929\n",
      "[10]\tvalidation_0-logloss:0.06095\tvalidation_0-mcc:0.97997\n",
      "[11]\tvalidation_0-logloss:0.05530\tvalidation_0-mcc:0.98039\n",
      "[12]\tvalidation_0-logloss:0.05172\tvalidation_0-mcc:0.98056\n",
      "[13]\tvalidation_0-logloss:0.04874\tvalidation_0-mcc:0.98087\n",
      "[14]\tvalidation_0-logloss:0.04731\tvalidation_0-mcc:0.98088\n",
      "[15]\tvalidation_0-logloss:0.04613\tvalidation_0-mcc:0.98096\n",
      "[16]\tvalidation_0-logloss:0.04434\tvalidation_0-mcc:0.98119\n",
      "[17]\tvalidation_0-logloss:0.04332\tvalidation_0-mcc:0.98142\n",
      "[18]\tvalidation_0-logloss:0.04246\tvalidation_0-mcc:0.98166\n",
      "[19]\tvalidation_0-logloss:0.04165\tvalidation_0-mcc:0.98178\n",
      "[20]\tvalidation_0-logloss:0.04083\tvalidation_0-mcc:0.98194\n",
      "[21]\tvalidation_0-logloss:0.04039\tvalidation_0-mcc:0.98202\n",
      "[22]\tvalidation_0-logloss:0.04017\tvalidation_0-mcc:0.98212\n",
      "[23]\tvalidation_0-logloss:0.03991\tvalidation_0-mcc:0.98218\n",
      "[24]\tvalidation_0-logloss:0.03964\tvalidation_0-mcc:0.98227\n",
      "[25]\tvalidation_0-logloss:0.03938\tvalidation_0-mcc:0.98238\n",
      "[26]\tvalidation_0-logloss:0.03929\tvalidation_0-mcc:0.98245\n",
      "[27]\tvalidation_0-logloss:0.03916\tvalidation_0-mcc:0.98253\n",
      "[28]\tvalidation_0-logloss:0.03909\tvalidation_0-mcc:0.98252\n",
      "[29]\tvalidation_0-logloss:0.03900\tvalidation_0-mcc:0.98257\n",
      "[30]\tvalidation_0-logloss:0.03893\tvalidation_0-mcc:0.98262\n",
      "[31]\tvalidation_0-logloss:0.03889\tvalidation_0-mcc:0.98267\n",
      "[32]\tvalidation_0-logloss:0.03886\tvalidation_0-mcc:0.98267\n",
      "[33]\tvalidation_0-logloss:0.03883\tvalidation_0-mcc:0.98269\n",
      "[34]\tvalidation_0-logloss:0.03880\tvalidation_0-mcc:0.98271\n",
      "[35]\tvalidation_0-logloss:0.03882\tvalidation_0-mcc:0.98269\n",
      "[36]\tvalidation_0-logloss:0.03878\tvalidation_0-mcc:0.98271\n",
      "[37]\tvalidation_0-logloss:0.03878\tvalidation_0-mcc:0.98277\n",
      "[38]\tvalidation_0-logloss:0.03878\tvalidation_0-mcc:0.98278\n",
      "[39]\tvalidation_0-logloss:0.03874\tvalidation_0-mcc:0.98279\n",
      "[40]\tvalidation_0-logloss:0.03873\tvalidation_0-mcc:0.98279\n",
      "[41]\tvalidation_0-logloss:0.03875\tvalidation_0-mcc:0.98278\n",
      "[42]\tvalidation_0-logloss:0.03875\tvalidation_0-mcc:0.98278\n",
      "[43]\tvalidation_0-logloss:0.03875\tvalidation_0-mcc:0.98277\n",
      "[44]\tvalidation_0-logloss:0.03876\tvalidation_0-mcc:0.98277\n",
      "[45]\tvalidation_0-logloss:0.03875\tvalidation_0-mcc:0.98279\n",
      "[46]\tvalidation_0-logloss:0.03875\tvalidation_0-mcc:0.98280\n",
      "[47]\tvalidation_0-logloss:0.03875\tvalidation_0-mcc:0.98280\n",
      "[48]\tvalidation_0-logloss:0.03875\tvalidation_0-mcc:0.98277\n",
      "[49]\tvalidation_0-logloss:0.03875\tvalidation_0-mcc:0.98278\n",
      "Score en test set: 0.9914643986339188\n"
     ]
    }
   ],
   "source": [
    "# Entrenar el modelo final con los mejores parámetros\n",
    "best_model = random_search.best_estimator_\n",
    "best_model.fit(\n",
    "    train_X, \n",
    "    train_y, \n",
    "    eval_set=[(test_X, test_y)],\n",
    "    eval_metric=mcc_metric\n",
    ")\n",
    "\n",
    "# Evaluar el modelo\n",
    "print(\"Score en test set:\", best_model.score(test_X, test_y))"
   ]
  },
  {
   "cell_type": "code",
   "execution_count": 19,
   "id": "d72b705c",
   "metadata": {
    "execution": {
     "iopub.execute_input": "2024-12-23T04:37:31.240779Z",
     "iopub.status.busy": "2024-12-23T04:37:31.240398Z",
     "iopub.status.idle": "2024-12-23T04:37:32.197095Z",
     "shell.execute_reply": "2024-12-23T04:37:32.196144Z"
    },
    "papermill": {
     "duration": 0.967969,
     "end_time": "2024-12-23T04:37:32.199042",
     "exception": false,
     "start_time": "2024-12-23T04:37:31.231073",
     "status": "completed"
    },
    "tags": []
   },
   "outputs": [],
   "source": [
    "y_pred = best_model.predict(test_X)"
   ]
  },
  {
   "cell_type": "code",
   "execution_count": 20,
   "id": "be22b0c2",
   "metadata": {
    "execution": {
     "iopub.execute_input": "2024-12-23T04:37:32.217664Z",
     "iopub.status.busy": "2024-12-23T04:37:32.217289Z",
     "iopub.status.idle": "2024-12-23T04:37:32.492152Z",
     "shell.execute_reply": "2024-12-23T04:37:32.490967Z"
    },
    "papermill": {
     "duration": 0.286229,
     "end_time": "2024-12-23T04:37:32.493972",
     "exception": false,
     "start_time": "2024-12-23T04:37:32.207743",
     "status": "completed"
    },
    "tags": []
   },
   "outputs": [
    {
     "name": "stdout",
     "output_type": "stream",
     "text": [
      "MCC: 98.28 %\n"
     ]
    }
   ],
   "source": [
    "score = matthews_corrcoef(test_y, y_pred)\n",
    "print('MCC:', round(score*100,2), '%')"
   ]
  },
  {
   "cell_type": "code",
   "execution_count": 21,
   "id": "c3420bcb",
   "metadata": {
    "execution": {
     "iopub.execute_input": "2024-12-23T04:37:32.513295Z",
     "iopub.status.busy": "2024-12-23T04:37:32.512941Z",
     "iopub.status.idle": "2024-12-23T04:37:35.789493Z",
     "shell.execute_reply": "2024-12-23T04:37:35.788276Z"
    },
    "papermill": {
     "duration": 3.288451,
     "end_time": "2024-12-23T04:37:35.791546",
     "exception": false,
     "start_time": "2024-12-23T04:37:32.503095",
     "status": "completed"
    },
    "tags": []
   },
   "outputs": [],
   "source": [
    "test_pred_prob=best_model.predict(df_test)\n",
    "test_pred_class=le.inverse_transform(test_pred_prob)"
   ]
  },
  {
   "cell_type": "code",
   "execution_count": 22,
   "id": "48641f21",
   "metadata": {
    "execution": {
     "iopub.execute_input": "2024-12-23T04:37:35.810589Z",
     "iopub.status.busy": "2024-12-23T04:37:35.810246Z",
     "iopub.status.idle": "2024-12-23T04:37:36.297505Z",
     "shell.execute_reply": "2024-12-23T04:37:36.296426Z"
    },
    "papermill": {
     "duration": 0.498329,
     "end_time": "2024-12-23T04:37:36.299135",
     "exception": false,
     "start_time": "2024-12-23T04:37:35.800806",
     "status": "completed"
    },
    "tags": []
   },
   "outputs": [
    {
     "data": {
      "text/html": [
       "<div>\n",
       "<style scoped>\n",
       "    .dataframe tbody tr th:only-of-type {\n",
       "        vertical-align: middle;\n",
       "    }\n",
       "\n",
       "    .dataframe tbody tr th {\n",
       "        vertical-align: top;\n",
       "    }\n",
       "\n",
       "    .dataframe thead th {\n",
       "        text-align: right;\n",
       "    }\n",
       "</style>\n",
       "<table border=\"1\" class=\"dataframe\">\n",
       "  <thead>\n",
       "    <tr style=\"text-align: right;\">\n",
       "      <th></th>\n",
       "      <th>id</th>\n",
       "      <th>class</th>\n",
       "    </tr>\n",
       "  </thead>\n",
       "  <tbody>\n",
       "    <tr>\n",
       "      <th>0</th>\n",
       "      <td>3116945</td>\n",
       "      <td>e</td>\n",
       "    </tr>\n",
       "    <tr>\n",
       "      <th>1</th>\n",
       "      <td>3116946</td>\n",
       "      <td>p</td>\n",
       "    </tr>\n",
       "    <tr>\n",
       "      <th>2</th>\n",
       "      <td>3116947</td>\n",
       "      <td>p</td>\n",
       "    </tr>\n",
       "    <tr>\n",
       "      <th>3</th>\n",
       "      <td>3116948</td>\n",
       "      <td>p</td>\n",
       "    </tr>\n",
       "    <tr>\n",
       "      <th>4</th>\n",
       "      <td>3116949</td>\n",
       "      <td>e</td>\n",
       "    </tr>\n",
       "  </tbody>\n",
       "</table>\n",
       "</div>"
      ],
      "text/plain": [
       "        id class\n",
       "0  3116945     e\n",
       "1  3116946     p\n",
       "2  3116947     p\n",
       "3  3116948     p\n",
       "4  3116949     e"
      ]
     },
     "execution_count": 22,
     "metadata": {},
     "output_type": "execute_result"
    }
   ],
   "source": [
    "sub='/kaggle/input/playground-series-s4e8/sample_submission.csv'\n",
    "df_sub=pd.read_csv(sub,sep=',')\n",
    "df_sub['class']= test_pred_class\n",
    "df_sub.head()"
   ]
  },
  {
   "cell_type": "code",
   "execution_count": 23,
   "id": "a4581489",
   "metadata": {
    "execution": {
     "iopub.execute_input": "2024-12-23T04:37:36.318605Z",
     "iopub.status.busy": "2024-12-23T04:37:36.318262Z",
     "iopub.status.idle": "2024-12-23T04:37:38.107020Z",
     "shell.execute_reply": "2024-12-23T04:37:38.106013Z"
    },
    "papermill": {
     "duration": 1.800355,
     "end_time": "2024-12-23T04:37:38.108512",
     "exception": false,
     "start_time": "2024-12-23T04:37:36.308157",
     "status": "completed"
    },
    "tags": []
   },
   "outputs": [
    {
     "data": {
      "text/html": [
       "<div>\n",
       "<style scoped>\n",
       "    .dataframe tbody tr th:only-of-type {\n",
       "        vertical-align: middle;\n",
       "    }\n",
       "\n",
       "    .dataframe tbody tr th {\n",
       "        vertical-align: top;\n",
       "    }\n",
       "\n",
       "    .dataframe thead th {\n",
       "        text-align: right;\n",
       "    }\n",
       "</style>\n",
       "<table border=\"1\" class=\"dataframe\">\n",
       "  <thead>\n",
       "    <tr style=\"text-align: right;\">\n",
       "      <th></th>\n",
       "      <th>id</th>\n",
       "      <th>class</th>\n",
       "    </tr>\n",
       "  </thead>\n",
       "  <tbody>\n",
       "    <tr>\n",
       "      <th>0</th>\n",
       "      <td>3116945</td>\n",
       "      <td>e</td>\n",
       "    </tr>\n",
       "    <tr>\n",
       "      <th>1</th>\n",
       "      <td>3116946</td>\n",
       "      <td>p</td>\n",
       "    </tr>\n",
       "    <tr>\n",
       "      <th>2</th>\n",
       "      <td>3116947</td>\n",
       "      <td>p</td>\n",
       "    </tr>\n",
       "    <tr>\n",
       "      <th>3</th>\n",
       "      <td>3116948</td>\n",
       "      <td>p</td>\n",
       "    </tr>\n",
       "    <tr>\n",
       "      <th>4</th>\n",
       "      <td>3116949</td>\n",
       "      <td>e</td>\n",
       "    </tr>\n",
       "    <tr>\n",
       "      <th>...</th>\n",
       "      <td>...</td>\n",
       "      <td>...</td>\n",
       "    </tr>\n",
       "    <tr>\n",
       "      <th>2077959</th>\n",
       "      <td>5194904</td>\n",
       "      <td>p</td>\n",
       "    </tr>\n",
       "    <tr>\n",
       "      <th>2077960</th>\n",
       "      <td>5194905</td>\n",
       "      <td>p</td>\n",
       "    </tr>\n",
       "    <tr>\n",
       "      <th>2077961</th>\n",
       "      <td>5194906</td>\n",
       "      <td>p</td>\n",
       "    </tr>\n",
       "    <tr>\n",
       "      <th>2077962</th>\n",
       "      <td>5194907</td>\n",
       "      <td>e</td>\n",
       "    </tr>\n",
       "    <tr>\n",
       "      <th>2077963</th>\n",
       "      <td>5194908</td>\n",
       "      <td>e</td>\n",
       "    </tr>\n",
       "  </tbody>\n",
       "</table>\n",
       "<p>2077964 rows × 2 columns</p>\n",
       "</div>"
      ],
      "text/plain": [
       "              id class\n",
       "0        3116945     e\n",
       "1        3116946     p\n",
       "2        3116947     p\n",
       "3        3116948     p\n",
       "4        3116949     e\n",
       "...          ...   ...\n",
       "2077959  5194904     p\n",
       "2077960  5194905     p\n",
       "2077961  5194906     p\n",
       "2077962  5194907     e\n",
       "2077963  5194908     e\n",
       "\n",
       "[2077964 rows x 2 columns]"
      ]
     },
     "execution_count": 23,
     "metadata": {},
     "output_type": "execute_result"
    }
   ],
   "source": [
    "df_sub.to_csv('submission.csv', index = False)\n",
    "pd.read_csv('submission.csv')"
   ]
  },
  {
   "cell_type": "code",
   "execution_count": 24,
   "id": "04204bcc",
   "metadata": {
    "execution": {
     "iopub.execute_input": "2024-12-23T04:37:38.127464Z",
     "iopub.status.busy": "2024-12-23T04:37:38.127124Z",
     "iopub.status.idle": "2024-12-23T04:37:38.231137Z",
     "shell.execute_reply": "2024-12-23T04:37:38.230273Z"
    },
    "papermill": {
     "duration": 0.115208,
     "end_time": "2024-12-23T04:37:38.232726",
     "exception": false,
     "start_time": "2024-12-23T04:37:38.117518",
     "status": "completed"
    },
    "tags": []
   },
   "outputs": [
    {
     "data": {
      "text/plain": [
       "class\n",
       "p    1133100\n",
       "e     944864\n",
       "Name: count, dtype: int64"
      ]
     },
     "execution_count": 24,
     "metadata": {},
     "output_type": "execute_result"
    }
   ],
   "source": [
    "df_sub['class'].value_counts()"
   ]
  },
  {
   "cell_type": "code",
   "execution_count": 25,
   "id": "841c2414",
   "metadata": {
    "execution": {
     "iopub.execute_input": "2024-12-23T04:37:38.252519Z",
     "iopub.status.busy": "2024-12-23T04:37:38.252151Z",
     "iopub.status.idle": "2024-12-23T04:37:39.437235Z",
     "shell.execute_reply": "2024-12-23T04:37:39.436151Z"
    },
    "papermill": {
     "duration": 1.197086,
     "end_time": "2024-12-23T04:37:39.439186",
     "exception": false,
     "start_time": "2024-12-23T04:37:38.242100",
     "status": "completed"
    },
    "tags": []
   },
   "outputs": [
    {
     "data": {
      "image/png": "[encoded data removed]",
      "text/plain": [
       "<Figure size 1000x800 with 1 Axes>"
      ]
     },
     "metadata": {},
     "output_type": "display_data"
    }
   ],
   "source": [
    "plt.figure(figsize=(10,8))\n",
    "sns.countplot(data=df_sub,x='class')\n",
    "plt.title('Class',fontsize=12)\n",
    "plt.show()"
   ]
  },
  {
   "cell_type": "code",
   "execution_count": null,
   "id": "6238409b",
   "metadata": {
    "papermill": {
     "duration": 0.008885,
     "end_time": "2024-12-23T04:37:39.457463",
     "exception": false,
     "start_time": "2024-12-23T04:37:39.448578",
     "status": "completed"
    },
    "tags": []
   },
   "outputs": [],
   "source": []
  },
  {
   "cell_type": "code",
   "execution_count": null,
   "id": "6d3a477d",
   "metadata": {
    "papermill": {
     "duration": 0.00891,
     "end_time": "2024-12-23T04:37:39.475573",
     "exception": false,
     "start_time": "2024-12-23T04:37:39.466663",
     "status": "completed"
    },
    "tags": []
   },
   "outputs": [],
   "source": []
  }
 ],
 "metadata": {
  "kaggle": {
   "accelerator": "none",
   "dataSources": [
    {
     "databundleVersionId": 9045607,
     "sourceId": 76727,
     "sourceType": "competition"
    }
   ],
   "dockerImageVersionId": 30822,
   "isGpuEnabled": false,
   "isInternetEnabled": true,
   "language": "python",
   "sourceType": "notebook"
  },
  "kernelspec": {
   "display_name": "Python 3",
   "language": "python",
   "name": "python3"
  },
  "language_info": {
   "codemirror_mode": {
    "name": "ipython",
    "version": 3
   },
   "file_extension": ".py",
   "mimetype": "text/x-python",
   "name": "python",
   "nbconvert_exporter": "python",
   "pygments_lexer": "ipython3",
   "version": "3.10.12"
  },
  "papermill": {
   "default_parameters": {},
   "duration": 2665.97121,
   "end_time": "2024-12-23T04:37:41.116354",
   "environment_variables": {},
   "exception": null,
   "input_path": "__notebook__.ipynb",
   "output_path": "__notebook__.ipynb",
   "parameters": {},
   "start_time": "2024-12-23T03:53:15.145144",
   "version": "2.6.0"
  }
 },
 "nbformat": 4,
 "nbformat_minor": 5
}
